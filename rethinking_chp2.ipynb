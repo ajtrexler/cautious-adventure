{
 "cells": [
  {
   "cell_type": "code",
   "execution_count": 8,
   "metadata": {},
   "outputs": [],
   "source": [
    "from scipy.stats import binom\n",
    "from scipy.optimize import minimize\n",
    "import numpy as np\n",
    "import matplotlib.pyplot as plt"
   ]
  },
  {
   "cell_type": "code",
   "execution_count": 5,
   "metadata": {},
   "outputs": [
    {
     "name": "stdout",
     "output_type": "stream",
     "text": [
      "9\n"
     ]
    }
   ],
   "source": [
    "# globe example\n",
    "data = [\"W\",\"L\",\"W\",\"W\",\"W\",\"L\",\"W\",\"L\",\"W\"]\n",
    "print(len(data))"
   ]
  },
  {
   "cell_type": "markdown",
   "metadata": {},
   "source": [
    "example 2.2: testing the python equivalent of R's `dbinom` function"
   ]
  },
  {
   "cell_type": "code",
   "execution_count": 10,
   "metadata": {},
   "outputs": [
    {
     "name": "stdout",
     "output_type": "stream",
     "text": [
      "0.16406250000000006\n"
     ]
    }
   ],
   "source": [
    "n = len(data) # total number tosses\n",
    "p = 0.5 # probability of W, just provided by example\n",
    "k = 6 # number of Ws\n",
    "print(binom.pmf(k,n,p))"
   ]
  },
  {
   "cell_type": "markdown",
   "metadata": {},
   "source": [
    "example 2.3: grid approximation"
   ]
  },
  {
   "cell_type": "code",
   "execution_count": 7,
   "metadata": {},
   "outputs": [],
   "source": [
    "param_grid = np.linspace(0,1,20)\n",
    "\n",
    "# define a flat prior\n",
    "prior = np.array([1]*20)\n",
    "# prior = np.exp(-5*abs(param_grid - 0.5))\n",
    "\n",
    "\n",
    "# compute likelihood at each value on grid\n",
    "liks = binom.pmf(k,n,p=param_grid)\n",
    "\n",
    "# get unstandardized posterior\n",
    "un_post = liks* prior\n",
    "\n",
    "# normalize posterior to sum to 1\n",
    "posterior = un_post / sum(un_post)"
   ]
  },
  {
   "cell_type": "code",
   "execution_count": 9,
   "metadata": {},
   "outputs": [
    {
     "data": {
      "text/plain": [
       "[<matplotlib.lines.Line2D at 0x7fd2dab93c90>]"
      ]
     },
     "execution_count": 9,
     "metadata": {},
     "output_type": "execute_result"
    },
    {
     "data": {
      "image/png": "[encoded data removed]",
      "text/plain": [
       "<Figure size 432x288 with 1 Axes>"
      ]
     },
     "metadata": {
      "needs_background": "light"
     },
     "output_type": "display_data"
    }
   ],
   "source": [
    "print(\"posterior distribution from globe example\")\n",
    "plt.plot(posterior)"
   ]
  },
  {
   "cell_type": "markdown",
   "metadata": {},
   "source": [
    "example XXX: quadratic approximation\n",
    "\n",
    "AKA laplace approximation\n",
    "\n",
    "first simply try finding the mode using minimize function in scipy.  This corresponds to R's `optim`, which is what McElreath's `rethinking::map` function uses under the hood.\n",
    "\n",
    "then try using PyMC3 using a custom class contained in the `pythinking` library being built in this repo."
   ]
  },
  {
   "cell_type": "code",
   "execution_count": 11,
   "metadata": {},
   "outputs": [],
   "source": [
    "# first try simply finding the mode using minimize function in scipy\n",
    "\n",
    "# univariate example for laplace approx.\n",
    "# return negative log_posterior because maximize, not minimize.\n",
    "def model(x,k,n):\n",
    "    liks = binom.logpmf(k,n,x)\n",
    "    log_post = liks + np.log(1)       \n",
    "    return -log_post\n",
    "\n",
    "# use minimize to get just the MAP estimate using the hardcoded model\n",
    "map_estimate = minimize(model,\n",
    "                        x0 = 0.5,\n",
    "                        args = (6,9),\n",
    "                        method=\"Nelder-Mead\")"
   ]
  },
  {
   "cell_type": "markdown",
   "metadata": {},
   "source": [
    "It finds the right solution, but in this simple implementation using the Nelder Mead solver, it doesn't return the Hessian that can be used to build the posterior distribution."
   ]
  },
  {
   "cell_type": "code",
   "execution_count": 15,
   "metadata": {},
   "outputs": [
    {
     "name": "stdout",
     "output_type": "stream",
     "text": [
      " final_simplex: (array([[0.66669922],\n",
      "       [0.66660156]]), array([1.29781074, 1.2978108 ]))\n",
      "           fun: 1.2978107372683727\n",
      "       message: 'Optimization terminated successfully.'\n",
      "          nfev: 26\n",
      "           nit: 13\n",
      "        status: 0\n",
      "       success: True\n",
      "             x: array([0.66669922])\n"
     ]
    }
   ],
   "source": [
    "print(map_estimate)"
   ]
  },
  {
   "cell_type": "code",
   "execution_count": null,
   "metadata": {},
   "outputs": [],
   "source": []
  }
 ],
 "metadata": {
  "kernelspec": {
   "display_name": "Python 3",
   "language": "python",
   "name": "python3"
  },
  "language_info": {
   "codemirror_mode": {
    "name": "ipython",
    "version": 3
   },
   "file_extension": ".py",
   "mimetype": "text/x-python",
   "name": "python",
   "nbconvert_exporter": "python",
   "pygments_lexer": "ipython3",
   "version": "3.7.4"
  }
 },
 "nbformat": 4,
 "nbformat_minor": 2
}
